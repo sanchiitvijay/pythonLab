{
 "cells": [
  {
   "cell_type": "code",
   "execution_count": 1,
   "id": "fff55d63",
   "metadata": {},
   "outputs": [
    {
     "name": "stdout",
     "output_type": "stream",
     "text": [
      "15\n",
      "120\n"
     ]
    }
   ],
   "source": [
    "def sum(arr):\n",
    "    ans = 0\n",
    "    for i in arr:\n",
    "        ans += i\n",
    "    return ans\n",
    "\n",
    "\n",
    "def multiply(arr):\n",
    "    ans = 1\n",
    "    for i in arr:\n",
    "        ans *= i\n",
    "    return ans\n",
    "\n",
    "arr = [1,2,3,4,5]\n",
    "print(sum(arr))\n",
    "print(multiply(arr))"
   ]
  },
  {
   "cell_type": "code",
   "execution_count": 2,
   "id": "ca7fd869",
   "metadata": {},
   "outputs": [
    {
     "name": "stdout",
     "output_type": "stream",
     "text": [
      "44\n",
      "32\n"
     ]
    }
   ],
   "source": [
    "def maxelement01(arr):\n",
    "    ans = arr[0]\n",
    "    for i in arr:\n",
    "        if ans < i:\n",
    "            ans = i\n",
    "    return ans\n",
    "\n",
    "def maxelement02(arr):\n",
    "    max01 = arr[0]\n",
    "    max02 = arr[0]\n",
    "    for i in arr:\n",
    "        if i > max01:\n",
    "            max02 = max01\n",
    "            max01 = i\n",
    "        elif i > max02 and i != max01:\n",
    "            max02 = i\n",
    "    return max02\n",
    "\n",
    "arr = [1, 3, 0, -1, 22, 44,44, 32]\n",
    "print(maxelement01(arr))\n",
    "print(maxelement02(arr))"
   ]
  },
  {
   "cell_type": "code",
   "execution_count": 7,
   "id": "d96ea9f1",
   "metadata": {},
   "outputs": [
    {
     "name": "stdout",
     "output_type": "stream",
     "text": [
      "found at 3\n"
     ]
    }
   ],
   "source": [
    "def linear_search(arr, index, target):\n",
    "    if(index >= len(arr)):\n",
    "        returm -1;\n",
    "    \n",
    "    \n",
    "    if(arr[index] == target):\n",
    "        return index;\n",
    "    \n",
    "    return linear_search(arr, index+1, target)\n",
    "    \n",
    "arr = [1,2,3,4,5,6,7]\n",
    "target = 4\n",
    "ans = linear_search(arr, 0, target)\n",
    "if(ans == -1) :\n",
    "    print(\"Number is not found\")\n",
    "else:\n",
    "    print(f\"found at {ans}\")"
   ]
  },
  {
   "cell_type": "code",
   "execution_count": 9,
   "id": "a87c7827",
   "metadata": {},
   "outputs": [
    {
     "name": "stdout",
     "output_type": "stream",
     "text": [
      "Target value is not found\n",
      "found at 3\n"
     ]
    }
   ],
   "source": [
    "def binarySearch(arr, target):\n",
    "    low = 0\n",
    "    high = len(arr)-1\n",
    "    \n",
    "    \n",
    "    while(low <= high):\n",
    "        mid = (low+high)//2\n",
    "        if(arr[mid] == target):\n",
    "            return target\n",
    "        elif(target > arr[mid]):\n",
    "            low = mid +1\n",
    "        else:\n",
    "            high = mid - 1\n",
    "    \n",
    "    return -1\n",
    "\n",
    "arr = [1,2,3,4,5,6,7]\n",
    "target = 9\n",
    "target2 = 3\n",
    "\n",
    "ans1 = binarySearch(arr, target)\n",
    "ans2 = binarySearch(arr, target2)\n",
    "\n",
    "if(ans1 == -1):\n",
    "    print(\"Target value is not found\")\n",
    "else:\n",
    "    print(f\"found at {ans1}\")\n",
    "\n",
    "if(ans2 == -1):\n",
    "    print(\"Target value is not found\")\n",
    "else:\n",
    "    print(f\"found at {ans2}\")\n",
    "\n"
   ]
  },
  {
   "cell_type": "code",
   "execution_count": 14,
   "id": "5b52f97b",
   "metadata": {},
   "outputs": [
    {
     "name": "stdout",
     "output_type": "stream",
     "text": [
      "0  1  1  2  3  5  8  13  21  34  55  89  "
     ]
    }
   ],
   "source": [
    "def fib(n):\n",
    "    a = 0\n",
    "    b = 1\n",
    "    print(a, end=\"  \")\n",
    "    while(b <= n):\n",
    "        print(b, end=\"  \")\n",
    "        c = a+b\n",
    "        a = b\n",
    "        b = c\n",
    "\n",
    "fib(100)"
   ]
  },
  {
   "cell_type": "code",
   "execution_count": 4,
   "id": "69b435f0",
   "metadata": {},
   "outputs": [
    {
     "name": "stdout",
     "output_type": "stream",
     "text": [
      "roots are 2.0 and 2.0\n",
      "roots are 4.0 and 1.0\n"
     ]
    }
   ],
   "source": [
    "import math\n",
    "def quad(a,b,c):\n",
    "    d = b*b - 4*a*c\n",
    "    \n",
    "    if(d == 0):\n",
    "        print(f'roots are {b/(2*a)} and {b/(2*a)}')\n",
    "    elif(d < 0):\n",
    "        print(f\"roots are {b/(2*a)} +i {(math.sqrt(abs(b*b-4*a*c)))/(2*a)} and {b/(2*a)} -i {(math.sqrt(abs(b*b-4*a*c)))/(2*a)}\")\n",
    "    else:\n",
    "        print(f\"roots are {b/(2*a)+math.sqrt(b*b-4*a*c)/(2*a)} and {b/(2*a)-math.sqrt(b*b-4*a*c)/(2*a)}\")\n",
    "        \n",
    "        \n",
    "quad(1,4,4)\n",
    "quad(1,5,4)"
   ]
  },
  {
   "cell_type": "code",
   "execution_count": 18,
   "id": "04a8f21a",
   "metadata": {},
   "outputs": [
    {
     "name": "stdout",
     "output_type": "stream",
     "text": [
      "All subjects: \n",
      "Numerical Techniques\n",
      "Microcontroller\n",
      "Algorithm\n",
      "Automata\n",
      "Computer Networking\n",
      "Algorithm lab\n",
      "Computer Networking Lab\n",
      "Python lab\n",
      "Data Analysis using R\n",
      "   \n",
      "2nd subject is Microcontroller\n",
      "5th subject is Computer Networking\n",
      "   \n",
      "first 4 subjects\n",
      "Numerical Techniques\n",
      "Microcontroller\n",
      "Algorithm\n",
      "Automata\n",
      "   \n",
      "last 4 subjects\n",
      "Data Analysis using R\n",
      "Python lab\n",
      "Computer Networking Lab\n",
      "Algorithm lab\n",
      "   \n",
      "Python lab is found\n"
     ]
    }
   ],
   "source": [
    "sub = [\"Numerical Techniques\", \"Microcontroller\", \"Algorithm\", \"Automata\", \"Computer Networking\", \"Algorithm lab\", \"Computer Networking Lab\", \"Python lab\", \"Data Analysis using R\"]\n",
    "print(\"All subjects: \")\n",
    "for i in sub:\n",
    "    print(i)\n",
    "print(\"   \")\n",
    "print(f\"2nd subject is {sub[1]}\")\n",
    "print(f\"5th subject is {sub[4]}\")\n",
    "print(\"   \")\n",
    "print(\"first 4 subjects\")\n",
    "for i in range(4):\n",
    "    print(sub[i])\n",
    "\n",
    "print(\"   \")\n",
    "print(\"last 4 subjects\")\n",
    "for i in range(8,4,-1):\n",
    "    print(sub[i])\n",
    "\n",
    "print(\"   \")\n",
    "if sub.index(\"Python lab\"):\n",
    "    print(\"Python lab is found\")\n",
    "else:\n",
    "    print(\"Python lab not found\")\n",
    "    \n",
    "sub.append(\"hi\")\n",
    "sub.pop()\n",
    "sub.insert(0, \"hi\")\n",
    "sub.remove(\"hi\")"
   ]
  },
  {
   "cell_type": "code",
   "execution_count": 20,
   "id": "9e1bb9c7",
   "metadata": {},
   "outputs": [
    {
     "name": "stdout",
     "output_type": "stream",
     "text": [
      "Move disk 1 from rod A to rod C\n",
      "Move disk 2 from rod A to rod B\n",
      "Move disk 1 from rod C to rod B\n",
      "Move disk 3 from rod A to rod C\n",
      "Move disk 1 from rod B to rod A\n",
      "Move disk 2 from rod B to rod C\n",
      "Move disk 1 from rod A to rod C\n"
     ]
    }
   ],
   "source": [
    "def tower_of_hanoi(n, source, target, auxiliary):\n",
    "    if n == 1:\n",
    "        print(f\"Move disk 1 from rod {source} to rod {target}\")\n",
    "        return\n",
    "    tower_of_hanoi(n-1, source, auxiliary, target)\n",
    "    print(f\"Move disk {n} from rod {source} to rod {target}\")\n",
    "    tower_of_hanoi(n-1, auxiliary, target, source)\n",
    "\n",
    "tower_of_hanoi(3, 'A', 'C', 'B') \n"
   ]
  },
  {
   "cell_type": "code",
   "execution_count": null,
   "id": "b7bff5ca",
   "metadata": {},
   "outputs": [],
   "source": []
  }
 ],
 "metadata": {
  "kernelspec": {
   "display_name": "Python 3 (ipykernel)",
   "language": "python",
   "name": "python3"
  },
  "language_info": {
   "codemirror_mode": {
    "name": "ipython",
    "version": 3
   },
   "file_extension": ".py",
   "mimetype": "text/x-python",
   "name": "python",
   "nbconvert_exporter": "python",
   "pygments_lexer": "ipython3",
   "version": "3.8.10"
  }
 },
 "nbformat": 4,
 "nbformat_minor": 5
}
