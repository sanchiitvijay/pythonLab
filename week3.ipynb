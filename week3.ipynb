{
 "cells": [
  {
   "cell_type": "code",
   "execution_count": 1,
   "id": "62788490",
   "metadata": {},
   "outputs": [
    {
     "name": "stdout",
     "output_type": "stream",
     "text": [
      "Enter the size of array5\n",
      "Formed array: \n",
      "Enter the value of K2\n",
      "[-73, 34, 41, 66, 61]\n",
      "\n",
      "minimum element -73 34 \n",
      "maximum element 61 66 "
     ]
    }
   ],
   "source": [
    "# ques1\n",
    "import random\n",
    "\n",
    "n = int(input(\"Enter the size of array\"))\n",
    "\n",
    "arr = []\n",
    "\n",
    "for i in range(n):\n",
    "    arr.append(random.randint(-100, 100))\n",
    "\n",
    "tupleArr = tuple(arr)\n",
    "\n",
    "\n",
    "print(\"Formed array: \")\n",
    "sorted(arr)\n",
    "k = int(input(\"Enter the value of K\"))\n",
    "\n",
    "print(arr)\n",
    "\n",
    "print(\"\\nminimum element\", end=\" \")\n",
    "for i in range(k):\n",
    "    print(arr[i], end=\" \")\n",
    "\n",
    "print(\"\\nmaximum element\", end=\" \")\n",
    "for i in range(1, k+1):\n",
    "    print(arr[-i], end=\" \")\n"
   ]
  },
  {
   "cell_type": "code",
   "execution_count": 2,
   "id": "964798dd",
   "metadata": {},
   "outputs": [
    {
     "name": "stdout",
     "output_type": "stream",
     "text": [
      "[('fig', 3), ('date', 4), ('apple', 5), ('grape', 5), ('banana', 6), ('cherry', 6), ('elderberry', 10)]\n"
     ]
    }
   ],
   "source": [
    "# ques2\n",
    "def sort_strings_by_length(strings):\n",
    "    string_tuples = [(s, len(s)) for s in strings]\n",
    "    \n",
    "    sorted_string_tuples = sorted(string_tuples, key=lambda x: x[1])\n",
    "    \n",
    "    return sorted_string_tuples\n",
    "\n",
    "strings = [\"apple\", \"banana\", \"cherry\", \"date\", \"elderberry\", \"fig\", \"grape\"]\n",
    "sorted_tuples = sort_strings_by_length(strings)\n",
    "print(sorted_tuples)\n"
   ]
  },
  {
   "cell_type": "code",
   "execution_count": 3,
   "id": "bee0a770",
   "metadata": {},
   "outputs": [
    {
     "name": "stdout",
     "output_type": "stream",
     "text": [
      "Keys of dictionary: \n",
      "dict_keys(['Karnataka', 'Maharashtra', 'Uttar Pradesh'])\n",
      "Values of dictionary: \n",
      "dict_values(['Bengaluru', 'Mumbai', 'Lucknow'])\n",
      "Items in dictionary: \n",
      "dict_items([('Karnataka', 'Bengaluru'), ('Maharashtra', 'Mumbai'), ('Uttar Pradesh', 'Lucknow')])\n",
      "Capital of Karnataka: \n",
      "Bengaluru\n",
      "Before:\n",
      "{'Karnataka': 'Bengaluru', 'Maharashtra': 'Mumbai', 'Uttar Pradesh': 'Lucknow'}\n",
      "After:\n",
      "{'Karnataka': 'Bengaluru', 'Maharashtra': 'Mumbai', 'Uttar Pradesh': 'Lucknow', 'Bihar': 'Patna'}\n"
     ]
    }
   ],
   "source": [
    "# ques3\n",
    "capitals = {\n",
    "    \"Karnataka\": \"Bengaluru\",\n",
    "    \"Maharashtra\": \"Mumbai\",\n",
    "    \"Uttar Pradesh\": \"Lucknow\"\n",
    "}\n",
    "\n",
    "print(\"Keys of dictionary: \")\n",
    "print(capitals.keys())\n",
    "print(\"Values of dictionary: \")\n",
    "print(capitals.values())\n",
    "print(\"Items in dictionary: \")\n",
    "print(capitals.items())\n",
    "print(\"Capital of Karnataka: \")\n",
    "print(capitals.get(\"Karnataka\"))\n",
    "print(\"Before:\")\n",
    "print(capitals)\n",
    "\n",
    "other_capitals = {\"Bihar\": \"Patna\"}\n",
    "print(\"After:\")\n",
    "capitals.update(other_capitals)\n",
    "print(capitals)"
   ]
  },
  {
   "cell_type": "code",
   "execution_count": 5,
   "id": "dd515de2",
   "metadata": {},
   "outputs": [
    {
     "name": "stdout",
     "output_type": "stream",
     "text": [
      "dictionary:\n",
      "sksk : xyz\n",
      "ksks : zyx\n",
      "rsrs : orso\n",
      "\n",
      "keys:\n",
      "sksk\n",
      "ksks\n",
      "rsrs\n",
      "\n",
      "values:\n",
      "xyz\n",
      "zyx\n",
      "orso\n",
      "\n",
      "\n",
      "orso\n",
      "bye\n"
     ]
    }
   ],
   "source": [
    "# ques4\n",
    "users = {\n",
    "    \"sksk\": \"xyz\",\n",
    "    \"ksks\": \"zyx\",\n",
    "    \"rsrs\": \"orso\",\n",
    "}\n",
    "\n",
    "print(\"dictionary:\")\n",
    "for key, value in users.items():\n",
    "    print(key, \":\", value)\n",
    "\n",
    "print(\"\\nkeys:\")\n",
    "for key in users.keys():\n",
    "    print(key)\n",
    "\n",
    "print(\"\\nvalues:\")\n",
    "for value in users.values():\n",
    "    print(value)\n",
    "\n",
    "print(\"\\n\")\n",
    "print(users[\"rsrs\"])\n",
    "users[\"rsrs\"] = \"bye\"\n",
    "print(users[\"rsrs\"])"
   ]
  },
  {
   "cell_type": "code",
   "execution_count": 22,
   "id": "a0598746",
   "metadata": {},
   "outputs": [
    {
     "name": "stdout",
     "output_type": "stream",
     "text": [
      "\n",
      "Menu:\n",
      "1. Add a new entry\n",
      "2. Search for a word\n",
      "3. Find words with same meaning\n",
      "4. Remove an entry\n",
      "5. Display all words sorted alphabetically\n",
      "6. Exit\n",
      "Enter your choice: 1\n",
      "Enter the word: hi\n",
      "Enter the meaning: hello\n",
      "Entry added successfully.\n",
      "\n",
      "Menu:\n",
      "1. Add a new entry\n",
      "2. Search for a word\n",
      "3. Find words with same meaning\n",
      "4. Remove an entry\n",
      "5. Display all words sorted alphabetically\n",
      "6. Exit\n",
      "Enter your choice: 1\n",
      "Enter the word: no\n",
      "Enter the meaning: na\n",
      "Entry added successfully.\n",
      "\n",
      "Menu:\n",
      "1. Add a new entry\n",
      "2. Search for a word\n",
      "3. Find words with same meaning\n",
      "4. Remove an entry\n",
      "5. Display all words sorted alphabetically\n",
      "6. Exit\n",
      "Enter your choice: 5\n",
      "Words in the dictionary (sorted alphabetically):\n",
      "hi: hello\n",
      "no: na\n",
      "\n",
      "Menu:\n",
      "1. Add a new entry\n",
      "2. Search for a word\n",
      "3. Find words with same meaning\n",
      "4. Remove an entry\n",
      "5. Display all words sorted alphabetically\n",
      "6. Exit\n",
      "Enter your choice: 6\n",
      "Exiting...\n"
     ]
    }
   ],
   "source": [
    "# ques 5\n",
    "word_meaning_dict = {}\n",
    "\n",
    "def add_entry(word, meaning):\n",
    "    if word in word_meaning_dict:\n",
    "        print(\"Word already exists in the dictionary.\")\n",
    "    else:\n",
    "        word_meaning_dict[word] = meaning\n",
    "        print(\"Entry added successfully.\")\n",
    "\n",
    "def search_word(word):\n",
    "    if word in word_meaning_dict:\n",
    "        print(\"Meaning of\", word + \":\", word_meaning_dict[word])\n",
    "    else:\n",
    "        print(\"Word not found in the dictionary.\")\n",
    "\n",
    "def find_word_by_meaning(meaning):\n",
    "    words = [word for word, mean in word_meaning_dict.items() if mean == meaning]\n",
    "    if words:\n",
    "        print(\"Words with the meaning\", meaning + \":\", \", \".join(words))\n",
    "    else:\n",
    "        print(\"No words found with the specified meaning.\")\n",
    "\n",
    "def remove_entry(word):\n",
    "    if word in word_meaning_dict:\n",
    "        del word_meaning_dict[word]\n",
    "        print(\"Entry removed successfully.\")\n",
    "    else:\n",
    "        print(\"Word not found in the dictionary.\")\n",
    "\n",
    "def display_sorted_words():\n",
    "    sorted_words = sorted(word_meaning_dict.keys())\n",
    "    print(\"Words in the dictionary (sorted alphabetically):\")\n",
    "    for word in sorted_words:\n",
    "        print(word + \":\", word_meaning_dict[word])\n",
    "\n",
    "def display_menu():\n",
    "    print(\"\\nMenu:\")\n",
    "    print(\"1. Add a new entry\")\n",
    "    print(\"2. Search for a word\")\n",
    "    print(\"3. Find words with same meaning\")\n",
    "    print(\"4. Remove an entry\")\n",
    "    print(\"5. Display\")\n",
    "    print(\"6. Exit\")\n",
    "    \n",
    "while True:\n",
    "    display_menu()\n",
    "    choice = input(\"Enter your choice: \")\n",
    "        \n",
    "    if choice == '1':\n",
    "        word = input(\"Enter the word: \")\n",
    "        meaning = input(\"Enter the meaning: \")\n",
    "        add_entry(word, meaning)\n",
    "    elif choice == '2':\n",
    "        word = input(\"Enter the word to search: \")\n",
    "        search_word(word)\n",
    "    elif choice == '3':\n",
    "        meaning = input(\"Enter the meaning to search: \")\n",
    "        find_word_by_meaning(meaning)\n",
    "    elif choice == '4':\n",
    "        word = input(\"Enter the word to remove: \")\n",
    "        remove_entry(word)\n",
    "    elif choice == '5':\n",
    "        display_sorted_words()\n",
    "    elif choice == '6':\n",
    "        print(\"Exiting...\")\n",
    "        break\n",
    "    else:\n",
    "        print(\"Invalid choice. Please enter a valid option.\")"
   ]
  },
  {
   "cell_type": "code",
   "execution_count": 7,
   "id": "a2945c47",
   "metadata": {},
   "outputs": [
    {
     "name": "stdout",
     "output_type": "stream",
     "text": [
      "{'h': 1, 'e': 1, 'l': 3, 'o': 2, ' ': 1, 'w': 1, 'r': 1, 'd': 1}\n"
     ]
    }
   ],
   "source": [
    "# ques6\n",
    "def helper(s):\n",
    "    frequency = {}\n",
    "    for c in s:\n",
    "        if c in frequency:\n",
    "            frequency[c] += 1\n",
    "        else:\n",
    "            frequency[c] = 1\n",
    "    return frequency\n",
    "\n",
    "s = \"hello world\"\n",
    "ans = helper(s)\n",
    "print(ans)\n"
   ]
  },
  {
   "cell_type": "code",
   "execution_count": 20,
   "id": "c9e15828",
   "metadata": {},
   "outputs": [
    {
     "name": "stdout",
     "output_type": "stream",
     "text": [
      "Random even integer between 1 and 100 : 36\n"
     ]
    }
   ],
   "source": [
    "# ques7(a)\n",
    "import random\n",
    "\n",
    "def random_even(start, end):\n",
    "    random_number = random.randint(start, end)\n",
    "    \n",
    "    if random_number % 2 != 0:\n",
    "        random_number += 1\n",
    "    return random_number\n",
    "\n",
    "start_range = 1\n",
    "end_range = 100\n",
    "randomEven = random_even(start_range, end_range)\n",
    "print(\"Random even integer between\", start_range, \"and\", end_range, \":\", randomEven)"
   ]
  },
  {
   "cell_type": "code",
   "execution_count": 14,
   "id": "548499c6",
   "metadata": {},
   "outputs": [
    {
     "name": "stdout",
     "output_type": "stream",
     "text": [
      "Random element: o\n"
     ]
    }
   ],
   "source": [
    "# ques7(b)\n",
    "import random\n",
    "\n",
    "def get_random_element(input_string):\n",
    "    return random.choice(input_string)\n",
    "\n",
    "specified_string = \"Hello World\"\n",
    "random_element = get_random_element(specified_string)\n",
    "print(\"Random element:\", random_element)"
   ]
  },
  {
   "cell_type": "code",
   "execution_count": 15,
   "id": "ab301358",
   "metadata": {},
   "outputs": [
    {
     "name": "stdout",
     "output_type": "stream",
     "text": [
      "Unique random numbers: [22, 77, 97, 70, 49, 56, 1, 27, 81, 38]\n"
     ]
    }
   ],
   "source": [
    "# ques7(c)\n",
    "import random\n",
    "\n",
    "def random_numbers(start, end, count):\n",
    "    if count > (end - start + 1):\n",
    "        return\n",
    "    random_num = random.sample(range(start, end + 1), count)\n",
    "    return random_num\n",
    "\n",
    "start_range = 1\n",
    "end_range = 100\n",
    "count = 10\n",
    "num = random_numbers(start_range, end_range, count)\n",
    "print(\"Unique random numbers:\", num)"
   ]
  }
 ],
 "metadata": {
  "kernelspec": {
   "display_name": "Python 3 (ipykernel)",
   "language": "python",
   "name": "python3"
  },
  "language_info": {
   "codemirror_mode": {
    "name": "ipython",
    "version": 3
   },
   "file_extension": ".py",
   "mimetype": "text/x-python",
   "name": "python",
   "nbconvert_exporter": "python",
   "pygments_lexer": "ipython3",
   "version": "3.8.10"
  }
 },
 "nbformat": 4,
 "nbformat_minor": 5
}
