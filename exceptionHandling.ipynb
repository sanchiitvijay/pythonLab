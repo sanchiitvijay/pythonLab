{
 "cells": [
  {
   "cell_type": "code",
   "execution_count": null,
   "id": "ffe2df6f",
   "metadata": {},
   "outputs": [],
   "source": [
    "# Develop a python program to demonstrate handling of following exceptions using try\n",
    "# and except.\n",
    "#  NameError\n",
    "#  IndexError\n",
    "#  KeyError\n",
    "#  ZeroDivisionError\n",
    "\n",
    "def handle_exceptions():\n",
    "    try:\n",
    "        print(non_existent_variable)\n",
    "    except NameError as e:\n",
    "        print(f\"NameError caught: {e}\")\n",
    "\n",
    "    try:\n",
    "        my_list = [1, 2, 3]\n",
    "        print(my_list[5])\n",
    "    except IndexError as e:\n",
    "        print(f\"IndexError caught: {e}\")\n",
    "\n",
    "    try:\n",
    "        my_dict = {'a': 1, 'b': 2}\n",
    "        print(my_dict['c'])\n",
    "    except KeyError as e:\n",
    "        print(f\"KeyError caught: {e}\")\n",
    "\n",
    "    try:\n",
    "        result = 10 / 0\n",
    "    except ZeroDivisionError as e:\n",
    "        print(f\"ZeroDivisionError caught: {e}\")\n",
    "\n",
    "handle_exceptions()\n"
   ]
  },
  {
   "cell_type": "code",
   "execution_count": null,
   "id": "acab7166",
   "metadata": {},
   "outputs": [],
   "source": [
    "# Develop a python program to demonstrate handling multiple exceptions using try,\n",
    "# except, else and finally block statements.\n",
    "\n",
    "\n",
    "def handle_multiple_exceptions():\n",
    "    try:\n",
    "       \n",
    "        value = int(input(\"Enter a number: \")) \n",
    "        result = 10 / value \n",
    "        my_list = [1, 2, 3]\n",
    "        print(my_list[value]\n",
    "        my_dict = {'a': 1, 'b': 2}\n",
    "        print(my_dict[value])\n",
    "\n",
    "    except ValueError as e:\n",
    "        print(f\"ValueError caught: {e}\")\n",
    "    \n",
    "    except ZeroDivisionError as e:\n",
    "        print(f\"ZeroDivisionError caught: {e}\")\n",
    "    \n",
    "    except IndexError as e:\n",
    "        print(f\"IndexError caught: {e}\")\n",
    "    \n",
    "    except KeyError as e:\n",
    "        print(f\"KeyError caught: {e}\")\n",
    "\n",
    "    else:\n",
    "        print(\"All operations were successful!\")\n",
    "\n",
    "    finally:\n",
    "        print(\"Execution completed, whether an exception was raised or not.\")\n",
    "handle_multiple_exceptions()\n"
   ]
  },
  {
   "cell_type": "code",
   "execution_count": 3,
   "id": "ae859434",
   "metadata": {},
   "outputs": [
    {
     "name": "stdout",
     "output_type": "stream",
     "text": [
      "Enter numberssa\n",
      "you didnt give integer value\n"
     ]
    }
   ],
   "source": [
    "# Develop a python program to read 5 integer values from the keyboard. Display the\n",
    "# sum and average of these numbers. If the user enters any other value, then raise the\n",
    "# ValueError exception. Display appropriate messages\n",
    "\n",
    "sum = 0;\n",
    "try:\n",
    "    for i in range(5):\n",
    "        n = int(input(\"Enter number: \"))\n",
    "        sum += n;\n",
    "    print(f\"Sum is {sum} and average is {sum/5}\")\n",
    "except ValueError:\n",
    "    print(\"you didnt give integer value\")\n"
   ]
  },
  {
   "cell_type": "markdown",
   "id": "732a8292",
   "metadata": {},
   "source": [
    "## "
   ]
  },
  {
   "cell_type": "code",
   "execution_count": 7,
   "id": "69bd11e7",
   "metadata": {},
   "outputs": [
    {
     "name": "stdout",
     "output_type": "stream",
     "text": [
      "Enter your age: 12344\n",
      "Error: Age must be between 1 and 150. Please enter a valid age.\n"
     ]
    }
   ],
   "source": [
    "# Develop a python program to read the age of a person and display if he is eligible to\n",
    "# vote or not. Raise the exception when the age range is less than 1 and greater than\n",
    "# 150.\n",
    "try:\n",
    "    age = int(input(\"Enter your age: \"))\n",
    "    if age < 1 or age > 150:\n",
    "        raise ValueError(\"Age must be between 1 and 150\")\n",
    "    \n",
    "    if age >= 18:\n",
    "        print(\"You are eligible to vote!\")\n",
    "    else:\n",
    "        print(\"You are not eligible to vote yet.\")\n",
    "except ValueError as e:\n",
    "    print(f\"Error: {e}. Please enter a valid age.\")\n"
   ]
  },
  {
   "cell_type": "code",
   "execution_count": 20,
   "id": "b3e40eaf",
   "metadata": {},
   "outputs": [
    {
     "name": "stdout",
     "output_type": "stream",
     "text": [
      "Enter a number: 34\n",
      "Square root of the number is 5.830951894845301\n"
     ]
    }
   ],
   "source": [
    "# Write an interactive program to compute the square root of a number. The input\n",
    "# values must be tested for validity. If it is negative, the user defined method MySqrt()\n",
    "# should raise an exception.\n",
    "\n",
    "try:\n",
    "    num = int(input(\"Enter a number: \"))\n",
    "    if num < 0:\n",
    "        raise NegativeNumberError(\"Negative numbers are not allowed.\")\n",
    "    else:\n",
    "        print(f\"Square root of the number is {num**0.5}\")\n",
    "\n",
    "except NegativeNumberError as e:\n",
    "    print(f\"Error: {e}\")\n"
   ]
  },
  {
   "cell_type": "code",
   "execution_count": null,
   "id": "fa1378ec",
   "metadata": {},
   "outputs": [],
   "source": [
    "# Write a program to simulate saving account processing in a bank using constructors.\n",
    "# Create Deposit and Withdraw with other member function and Check for Validation\n",
    "# while withdrawing the amount. Raise the appropriate exceptions when depositing and\n",
    "# withdrawing an incorrect amount. Display appropriate messages.\n",
    "\n",
    "class Bank:\n",
    "    def __init__(self, account_number, account_holder_name, initial_balance=0):\n",
    "        self.account_number = account_number\n",
    "        self.account_holder_name = account_holder_name\n",
    "        self.balance = initial_balance\n",
    "\n",
    "    def deposit(self, amount):\n",
    "        if amount <= 0:\n",
    "            raise ValueError(\"Deposit amount should be greater than zero\")\n",
    "        self.balance += amount\n",
    "        print(f\"Deposit of {amount} successful. New balance is {self.balance}\")\n",
    "\n",
    "    def withdraw(self, amount):\n",
    "        if amount <= 0:\n",
    "            raise ValueError(\"Withdrawal amount should be greater than zero\")\n",
    "        if amount > self.balance:\n",
    "            raise ValueError(\"Insufficient balance\")\n",
    "        self.balance -= amount\n",
    "        print(f\"Withdrawal of {amount} successful. New balance is {self.balance}\")\n",
    "\n",
    "    def check_balance(self):\n",
    "        print(f\"Current balance: {self.balance}\")\n",
    "\n",
    "\n",
    "account = Bank(12345, \"John Doe\", 1000)\n",
    "    \n",
    "account.check_balance()\n",
    "account.deposit(500)\n",
    "account.check_balance()\n",
    "account.withdraw(200)\n",
    "account.check_balance()\n",
    "account.withdraw(2000) \n"
   ]
  },
  {
   "cell_type": "code",
   "execution_count": null,
   "id": "80b073fb",
   "metadata": {},
   "outputs": [],
   "source": []
  },
  {
   "cell_type": "code",
   "execution_count": null,
   "id": "66befe7d",
   "metadata": {},
   "outputs": [],
   "source": []
  }
 ],
 "metadata": {
  "kernelspec": {
   "display_name": "Python 3 (ipykernel)",
   "language": "python",
   "name": "python3"
  },
  "language_info": {
   "codemirror_mode": {
    "name": "ipython",
    "version": 3
   },
   "file_extension": ".py",
   "mimetype": "text/x-python",
   "name": "python",
   "nbconvert_exporter": "python",
   "pygments_lexer": "ipython3",
   "version": "3.8.10"
  }
 },
 "nbformat": 4,
 "nbformat_minor": 5
}
